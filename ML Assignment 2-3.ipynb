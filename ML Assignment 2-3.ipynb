{
 "cells": [
  {
   "cell_type": "markdown",
   "metadata": {},
   "source": [
    "# First steps"
   ]
  },
  {
   "cell_type": "markdown",
   "metadata": {},
   "source": [
    "Import needed packages"
   ]
  },
  {
   "cell_type": "code",
   "execution_count": 1,
   "metadata": {},
   "outputs": [],
   "source": [
    "import pandas as pd\n",
    "import numpy as np\n",
    "import seaborn as sns\n",
    "import matplotlib.pyplot as plt\n",
    "%matplotlib inline\n"
   ]
  },
  {
   "cell_type": "code",
   "execution_count": 2,
   "metadata": {
    "scrolled": true
   },
   "outputs": [
    {
     "name": "stdout",
     "output_type": "stream",
     "text": [
      "(31428, 27)\n"
     ]
    }
   ],
   "source": [
    "#Import datasets train\n",
    "df= pd.read_csv('train.csv')\n",
    "print(df.shape)"
   ]
  },
  {
   "cell_type": "code",
   "execution_count": 3,
   "metadata": {
    "scrolled": true
   },
   "outputs": [
    {
     "name": "stdout",
     "output_type": "stream",
     "text": [
      "(32086, 27)\n"
     ]
    }
   ],
   "source": [
    "#Import datasets test\n",
    "df_test=pd.read_csv('test1.csv')\n",
    "print(df_test.shape)"
   ]
  },
  {
   "cell_type": "code",
   "execution_count": 4,
   "metadata": {},
   "outputs": [
    {
     "data": {
      "text/html": [
       "<div>\n",
       "<style scoped>\n",
       "    .dataframe tbody tr th:only-of-type {\n",
       "        vertical-align: middle;\n",
       "    }\n",
       "\n",
       "    .dataframe tbody tr th {\n",
       "        vertical-align: top;\n",
       "    }\n",
       "\n",
       "    .dataframe thead th {\n",
       "        text-align: right;\n",
       "    }\n",
       "</style>\n",
       "<table border=\"1\" class=\"dataframe\">\n",
       "  <thead>\n",
       "    <tr style=\"text-align: right;\">\n",
       "      <th></th>\n",
       "      <th>label</th>\n",
       "      <th>id</th>\n",
       "      <th>visitTime</th>\n",
       "      <th>purchaseTime</th>\n",
       "      <th>hour</th>\n",
       "      <th>C1</th>\n",
       "      <th>C2</th>\n",
       "      <th>C3</th>\n",
       "      <th>C4</th>\n",
       "      <th>C5</th>\n",
       "      <th>...</th>\n",
       "      <th>N4</th>\n",
       "      <th>N5</th>\n",
       "      <th>N6</th>\n",
       "      <th>N7</th>\n",
       "      <th>N8</th>\n",
       "      <th>N9</th>\n",
       "      <th>N10</th>\n",
       "      <th>C10</th>\n",
       "      <th>C11</th>\n",
       "      <th>C12</th>\n",
       "    </tr>\n",
       "  </thead>\n",
       "  <tbody>\n",
       "    <tr>\n",
       "      <td>0</td>\n",
       "      <td>-1</td>\n",
       "      <td>37</td>\n",
       "      <td>19274330</td>\n",
       "      <td>-1</td>\n",
       "      <td>0</td>\n",
       "      <td>2569487005</td>\n",
       "      <td>1830830742</td>\n",
       "      <td>4228834423</td>\n",
       "      <td>652481754</td>\n",
       "      <td>2967512603</td>\n",
       "      <td>...</td>\n",
       "      <td>0</td>\n",
       "      <td>0</td>\n",
       "      <td>0</td>\n",
       "      <td>0</td>\n",
       "      <td>0</td>\n",
       "      <td>0</td>\n",
       "      <td>0</td>\n",
       "      <td>419316267</td>\n",
       "      <td>3617851689</td>\n",
       "      <td>4220791646</td>\n",
       "    </tr>\n",
       "    <tr>\n",
       "      <td>1</td>\n",
       "      <td>-1</td>\n",
       "      <td>55</td>\n",
       "      <td>19274334</td>\n",
       "      <td>-1</td>\n",
       "      <td>0</td>\n",
       "      <td>3191875643</td>\n",
       "      <td>403381353</td>\n",
       "      <td>1238330876</td>\n",
       "      <td>652481754</td>\n",
       "      <td>2967512603</td>\n",
       "      <td>...</td>\n",
       "      <td>0</td>\n",
       "      <td>0</td>\n",
       "      <td>0</td>\n",
       "      <td>0</td>\n",
       "      <td>1</td>\n",
       "      <td>0</td>\n",
       "      <td>0</td>\n",
       "      <td>1968545380</td>\n",
       "      <td>3831440054</td>\n",
       "      <td>1213938795</td>\n",
       "    </tr>\n",
       "    <tr>\n",
       "      <td>2</td>\n",
       "      <td>-1</td>\n",
       "      <td>114</td>\n",
       "      <td>19274353</td>\n",
       "      <td>-1</td>\n",
       "      <td>0</td>\n",
       "      <td>2634604934</td>\n",
       "      <td>403381353</td>\n",
       "      <td>1928325921</td>\n",
       "      <td>652481754</td>\n",
       "      <td>2967512603</td>\n",
       "      <td>...</td>\n",
       "      <td>0</td>\n",
       "      <td>0</td>\n",
       "      <td>0</td>\n",
       "      <td>0</td>\n",
       "      <td>0</td>\n",
       "      <td>0</td>\n",
       "      <td>0</td>\n",
       "      <td>1405802835</td>\n",
       "      <td>2379633508</td>\n",
       "      <td>1284343215</td>\n",
       "    </tr>\n",
       "    <tr>\n",
       "      <td>3</td>\n",
       "      <td>-1</td>\n",
       "      <td>128</td>\n",
       "      <td>19274358</td>\n",
       "      <td>-1</td>\n",
       "      <td>0</td>\n",
       "      <td>2569487005</td>\n",
       "      <td>403381353</td>\n",
       "      <td>296915027</td>\n",
       "      <td>652481754</td>\n",
       "      <td>2967512603</td>\n",
       "      <td>...</td>\n",
       "      <td>0</td>\n",
       "      <td>0</td>\n",
       "      <td>0</td>\n",
       "      <td>0</td>\n",
       "      <td>0</td>\n",
       "      <td>0</td>\n",
       "      <td>0</td>\n",
       "      <td>2299319102</td>\n",
       "      <td>3617851689</td>\n",
       "      <td>4220791646</td>\n",
       "    </tr>\n",
       "    <tr>\n",
       "      <td>4</td>\n",
       "      <td>-1</td>\n",
       "      <td>164</td>\n",
       "      <td>19274367</td>\n",
       "      <td>-1</td>\n",
       "      <td>0</td>\n",
       "      <td>2569487005</td>\n",
       "      <td>403381353</td>\n",
       "      <td>681762206</td>\n",
       "      <td>652481754</td>\n",
       "      <td>2967512603</td>\n",
       "      <td>...</td>\n",
       "      <td>0</td>\n",
       "      <td>0</td>\n",
       "      <td>0</td>\n",
       "      <td>0</td>\n",
       "      <td>0</td>\n",
       "      <td>0</td>\n",
       "      <td>0</td>\n",
       "      <td>1306075469</td>\n",
       "      <td>3617851689</td>\n",
       "      <td>4220791646</td>\n",
       "    </tr>\n",
       "    <tr>\n",
       "      <td>...</td>\n",
       "      <td>...</td>\n",
       "      <td>...</td>\n",
       "      <td>...</td>\n",
       "      <td>...</td>\n",
       "      <td>...</td>\n",
       "      <td>...</td>\n",
       "      <td>...</td>\n",
       "      <td>...</td>\n",
       "      <td>...</td>\n",
       "      <td>...</td>\n",
       "      <td>...</td>\n",
       "      <td>...</td>\n",
       "      <td>...</td>\n",
       "      <td>...</td>\n",
       "      <td>...</td>\n",
       "      <td>...</td>\n",
       "      <td>...</td>\n",
       "      <td>...</td>\n",
       "      <td>...</td>\n",
       "      <td>...</td>\n",
       "      <td>...</td>\n",
       "    </tr>\n",
       "    <tr>\n",
       "      <td>31423</td>\n",
       "      <td>-1</td>\n",
       "      <td>638420</td>\n",
       "      <td>19360259</td>\n",
       "      <td>-1</td>\n",
       "      <td>23</td>\n",
       "      <td>2569487005</td>\n",
       "      <td>2018710401</td>\n",
       "      <td>1712143179</td>\n",
       "      <td>2308170622</td>\n",
       "      <td>2967512603</td>\n",
       "      <td>...</td>\n",
       "      <td>0</td>\n",
       "      <td>0</td>\n",
       "      <td>0</td>\n",
       "      <td>0</td>\n",
       "      <td>0</td>\n",
       "      <td>0</td>\n",
       "      <td>0</td>\n",
       "      <td>773194559</td>\n",
       "      <td>3617851689</td>\n",
       "      <td>4220791646</td>\n",
       "    </tr>\n",
       "    <tr>\n",
       "      <td>31424</td>\n",
       "      <td>-1</td>\n",
       "      <td>638422</td>\n",
       "      <td>19360260</td>\n",
       "      <td>-1</td>\n",
       "      <td>23</td>\n",
       "      <td>2569487005</td>\n",
       "      <td>403381353</td>\n",
       "      <td>2280365090</td>\n",
       "      <td>652481754</td>\n",
       "      <td>2967512603</td>\n",
       "      <td>...</td>\n",
       "      <td>0</td>\n",
       "      <td>0</td>\n",
       "      <td>0</td>\n",
       "      <td>0</td>\n",
       "      <td>0</td>\n",
       "      <td>0</td>\n",
       "      <td>0</td>\n",
       "      <td>4038791635</td>\n",
       "      <td>3617851689</td>\n",
       "      <td>4220791646</td>\n",
       "    </tr>\n",
       "    <tr>\n",
       "      <td>31425</td>\n",
       "      <td>-1</td>\n",
       "      <td>638461</td>\n",
       "      <td>19360392</td>\n",
       "      <td>-1</td>\n",
       "      <td>23</td>\n",
       "      <td>497926344</td>\n",
       "      <td>1235983246</td>\n",
       "      <td>1379688777</td>\n",
       "      <td>652481754</td>\n",
       "      <td>2116767313</td>\n",
       "      <td>...</td>\n",
       "      <td>0</td>\n",
       "      <td>0</td>\n",
       "      <td>0</td>\n",
       "      <td>0</td>\n",
       "      <td>0</td>\n",
       "      <td>0</td>\n",
       "      <td>0</td>\n",
       "      <td>1169636883</td>\n",
       "      <td>621902171</td>\n",
       "      <td>3706004275</td>\n",
       "    </tr>\n",
       "    <tr>\n",
       "      <td>31426</td>\n",
       "      <td>-1</td>\n",
       "      <td>638496</td>\n",
       "      <td>19360528</td>\n",
       "      <td>-1</td>\n",
       "      <td>23</td>\n",
       "      <td>2569487005</td>\n",
       "      <td>403381353</td>\n",
       "      <td>2780744710</td>\n",
       "      <td>652481754</td>\n",
       "      <td>2967512603</td>\n",
       "      <td>...</td>\n",
       "      <td>0</td>\n",
       "      <td>0</td>\n",
       "      <td>0</td>\n",
       "      <td>0</td>\n",
       "      <td>0</td>\n",
       "      <td>0</td>\n",
       "      <td>0</td>\n",
       "      <td>357042422</td>\n",
       "      <td>3617851689</td>\n",
       "      <td>4220791646</td>\n",
       "    </tr>\n",
       "    <tr>\n",
       "      <td>31427</td>\n",
       "      <td>-1</td>\n",
       "      <td>638505</td>\n",
       "      <td>19360545</td>\n",
       "      <td>-1</td>\n",
       "      <td>23</td>\n",
       "      <td>2569487005</td>\n",
       "      <td>403381353</td>\n",
       "      <td>4214696082</td>\n",
       "      <td>652481754</td>\n",
       "      <td>2967512603</td>\n",
       "      <td>...</td>\n",
       "      <td>0</td>\n",
       "      <td>0</td>\n",
       "      <td>0</td>\n",
       "      <td>0</td>\n",
       "      <td>0</td>\n",
       "      <td>0</td>\n",
       "      <td>0</td>\n",
       "      <td>2237502949</td>\n",
       "      <td>3617851689</td>\n",
       "      <td>4220791646</td>\n",
       "    </tr>\n",
       "  </tbody>\n",
       "</table>\n",
       "<p>31428 rows × 27 columns</p>\n",
       "</div>"
      ],
      "text/plain": [
       "       label      id  visitTime  purchaseTime  hour          C1          C2  \\\n",
       "0         -1      37   19274330            -1     0  2569487005  1830830742   \n",
       "1         -1      55   19274334            -1     0  3191875643   403381353   \n",
       "2         -1     114   19274353            -1     0  2634604934   403381353   \n",
       "3         -1     128   19274358            -1     0  2569487005   403381353   \n",
       "4         -1     164   19274367            -1     0  2569487005   403381353   \n",
       "...      ...     ...        ...           ...   ...         ...         ...   \n",
       "31423     -1  638420   19360259            -1    23  2569487005  2018710401   \n",
       "31424     -1  638422   19360260            -1    23  2569487005   403381353   \n",
       "31425     -1  638461   19360392            -1    23   497926344  1235983246   \n",
       "31426     -1  638496   19360528            -1    23  2569487005   403381353   \n",
       "31427     -1  638505   19360545            -1    23  2569487005   403381353   \n",
       "\n",
       "               C3          C4          C5  ...  N4  N5  N6  N7  N8  N9  N10  \\\n",
       "0      4228834423   652481754  2967512603  ...   0   0   0   0   0   0    0   \n",
       "1      1238330876   652481754  2967512603  ...   0   0   0   0   1   0    0   \n",
       "2      1928325921   652481754  2967512603  ...   0   0   0   0   0   0    0   \n",
       "3       296915027   652481754  2967512603  ...   0   0   0   0   0   0    0   \n",
       "4       681762206   652481754  2967512603  ...   0   0   0   0   0   0    0   \n",
       "...           ...         ...         ...  ...  ..  ..  ..  ..  ..  ..  ...   \n",
       "31423  1712143179  2308170622  2967512603  ...   0   0   0   0   0   0    0   \n",
       "31424  2280365090   652481754  2967512603  ...   0   0   0   0   0   0    0   \n",
       "31425  1379688777   652481754  2116767313  ...   0   0   0   0   0   0    0   \n",
       "31426  2780744710   652481754  2967512603  ...   0   0   0   0   0   0    0   \n",
       "31427  4214696082   652481754  2967512603  ...   0   0   0   0   0   0    0   \n",
       "\n",
       "              C10         C11         C12  \n",
       "0       419316267  3617851689  4220791646  \n",
       "1      1968545380  3831440054  1213938795  \n",
       "2      1405802835  2379633508  1284343215  \n",
       "3      2299319102  3617851689  4220791646  \n",
       "4      1306075469  3617851689  4220791646  \n",
       "...           ...         ...         ...  \n",
       "31423   773194559  3617851689  4220791646  \n",
       "31424  4038791635  3617851689  4220791646  \n",
       "31425  1169636883   621902171  3706004275  \n",
       "31426   357042422  3617851689  4220791646  \n",
       "31427  2237502949  3617851689  4220791646  \n",
       "\n",
       "[31428 rows x 27 columns]"
      ]
     },
     "execution_count": 4,
     "metadata": {},
     "output_type": "execute_result"
    }
   ],
   "source": [
    "df"
   ]
  },
  {
   "cell_type": "markdown",
   "metadata": {},
   "source": [
    "Data preparation"
   ]
  },
  {
   "cell_type": "code",
   "execution_count": 5,
   "metadata": {},
   "outputs": [
    {
     "data": {
      "text/plain": [
       "Index(['label', 'id', 'visitTime', 'purchaseTime', 'hour', 'C1', 'C2', 'C3',\n",
       "       'C4', 'C5', 'C6', 'C7', 'C8', 'N1', 'C9', 'N2', 'N3', 'N4', 'N5', 'N6',\n",
       "       'N7', 'N8', 'N9', 'N10', 'C10', 'C11', 'C12'],\n",
       "      dtype='object')"
      ]
     },
     "execution_count": 5,
     "metadata": {},
     "output_type": "execute_result"
    }
   ],
   "source": [
    "df.columns"
   ]
  },
  {
   "cell_type": "markdown",
   "metadata": {},
   "source": [
    "Missing Value Check"
   ]
  },
  {
   "cell_type": "code",
   "execution_count": 6,
   "metadata": {},
   "outputs": [
    {
     "data": {
      "text/plain": [
       "<matplotlib.axes._subplots.AxesSubplot at 0x23f1f184a48>"
      ]
     },
     "execution_count": 6,
     "metadata": {},
     "output_type": "execute_result"
    },
    {
     "data": {
      "image/png": "[encoded data removed]",
      "text/plain": [
       "<Figure size 432x288 with 1 Axes>"
      ]
     },
     "metadata": {
      "needs_background": "light"
     },
     "output_type": "display_data"
    }
   ],
   "source": [
    "sns.heatmap(df.isnull(),yticklabels=False,cbar=False,cmap='viridis')"
   ]
  },
  {
   "cell_type": "markdown",
   "metadata": {},
   "source": [
    "Feature selection"
   ]
  },
  {
   "cell_type": "code",
   "execution_count": 7,
   "metadata": {},
   "outputs": [
    {
     "name": "stdout",
     "output_type": "stream",
     "text": [
      "                 label        id  visitTime  purchaseTime      hour        C1  \\\n",
      "label         1.000000  0.006510   0.005782      1.000000  0.005959 -0.002729   \n",
      "id            0.006510  1.000000   0.985723      0.006543  0.984233  0.011131   \n",
      "visitTime     0.005782  0.985723   1.000000      0.005815  0.998092  0.011742   \n",
      "purchaseTime  1.000000  0.006543   0.005815      1.000000  0.005992 -0.002730   \n",
      "hour          0.005959  0.984233   0.998092      0.005992  1.000000  0.011623   \n",
      "C1           -0.002729  0.011131   0.011742     -0.002730  0.011623  1.000000   \n",
      "C2            0.003435 -0.031077  -0.021600      0.003442 -0.021613  0.024736   \n",
      "C3           -0.000707 -0.014507  -0.011627     -0.000712 -0.012099  0.021227   \n",
      "C4           -0.005857  0.048138   0.051565     -0.005860  0.051268  0.042015   \n",
      "C5            0.008654 -0.044974  -0.040371      0.008663 -0.039976  0.049402   \n",
      "C6            0.017486  0.027836   0.059132      0.017483  0.058947  0.013999   \n",
      "C7           -0.036506  0.009746   0.008802     -0.036515  0.008625  0.031409   \n",
      "C8            0.004194  0.125961   0.119564      0.004197  0.119237 -0.007672   \n",
      "N1            0.041259  0.017362   0.012089      0.041267  0.014503 -0.051824   \n",
      "C9            0.029978  0.112332   0.082722      0.029986  0.083878  0.007018   \n",
      "N2            0.008043 -0.018011  -0.021907      0.008046 -0.020094 -0.024245   \n",
      "N3            0.117648  0.035546   0.036165      0.117632  0.036497 -0.015229   \n",
      "N4            0.203383  0.026743   0.026420      0.203410  0.027168 -0.013335   \n",
      "N5            0.071254  0.006860   0.006853      0.071303  0.006560 -0.005202   \n",
      "N6            0.230524  0.012628   0.014143      0.230528  0.014412  0.010162   \n",
      "N7            0.092622 -0.001135  -0.000400      0.092630 -0.000202  0.005695   \n",
      "N8            0.232069  0.035148   0.036550      0.232101  0.037086 -0.013904   \n",
      "N9            0.514412  0.013390   0.013527      0.514525  0.013552 -0.006939   \n",
      "N10           0.470503  0.012329   0.012626      0.470614  0.012575 -0.011425   \n",
      "C10          -0.005066 -0.000430  -0.000176     -0.005069 -0.000184  0.000293   \n",
      "C11          -0.001280  0.053341   0.051994     -0.001278  0.052295  0.072482   \n",
      "C12          -0.016744  0.070517   0.072373     -0.016742  0.071955  0.148559   \n",
      "\n",
      "                    C2        C3        C4        C5  ...        N4        N5  \\\n",
      "label         0.003435 -0.000707 -0.005857  0.008654  ...  0.203383  0.071254   \n",
      "id           -0.031077 -0.014507  0.048138 -0.044974  ...  0.026743  0.006860   \n",
      "visitTime    -0.021600 -0.011627  0.051565 -0.040371  ...  0.026420  0.006853   \n",
      "purchaseTime  0.003442 -0.000712 -0.005860  0.008663  ...  0.203410  0.071303   \n",
      "hour         -0.021613 -0.012099  0.051268 -0.039976  ...  0.027168  0.006560   \n",
      "C1            0.024736  0.021227  0.042015  0.049402  ... -0.013335 -0.005202   \n",
      "C2            1.000000 -0.033626  0.522098  0.188290  ...  0.012293 -0.003979   \n",
      "C3           -0.033626  1.000000 -0.051367  0.035305  ... -0.002444  0.008495   \n",
      "C4            0.522098 -0.051367  1.000000  0.301824  ... -0.010637 -0.005169   \n",
      "C5            0.188290  0.035305  0.301824  1.000000  ...  0.040794 -0.020289   \n",
      "C6           -0.024301  0.011187  0.018999  0.125719  ...  0.018428  0.020634   \n",
      "C7            0.046606 -0.000490  0.036268  0.008757  ... -0.034457  0.001486   \n",
      "C8           -0.295987  0.020281 -0.098485 -0.201160  ... -0.033142  0.003809   \n",
      "N1            0.009429 -0.002296  0.006588  0.264212  ...  0.110351 -0.000232   \n",
      "C9           -0.049385 -0.072116 -0.025080  0.117501  ...  0.063283 -0.006667   \n",
      "N2            0.038045 -0.034679 -0.019544  0.149258  ...  0.039056 -0.003818   \n",
      "N3           -0.024341 -0.002251 -0.039773 -0.060791  ...  0.349852  0.127400   \n",
      "N4            0.012293 -0.002444 -0.010637  0.040794  ...  1.000000 -0.001632   \n",
      "N5           -0.003979  0.008495 -0.005169 -0.020289  ... -0.001632  1.000000   \n",
      "N6            0.021354  0.002335  0.003998  0.024300  ...  0.566682 -0.000741   \n",
      "N7            0.005619 -0.003647 -0.006557  0.005445  ...  0.304263 -0.000415   \n",
      "N8            0.004571  0.002815 -0.018941  0.007496  ...  0.825176  0.102013   \n",
      "N9            0.007887  0.003306 -0.008732  0.015806  ...  0.329649  0.017159   \n",
      "N10           0.010729  0.004317 -0.006200  0.018107  ...  0.368547  0.031995   \n",
      "C10          -0.055098  0.000864 -0.022361 -0.093148  ... -0.004138  0.004289   \n",
      "C11           0.111602  0.021532  0.128080  0.109476  ...  0.002419  0.000645   \n",
      "C12           0.133126  0.074496  0.211202  0.265741  ... -0.062559 -0.011926   \n",
      "\n",
      "                    N6        N7        N8        N9       N10       C10  \\\n",
      "label         0.230524  0.092622  0.232069  0.514412  0.470503 -0.005066   \n",
      "id            0.012628 -0.001135  0.035148  0.013390  0.012329 -0.000430   \n",
      "visitTime     0.014143 -0.000400  0.036550  0.013527  0.012626 -0.000176   \n",
      "purchaseTime  0.230528  0.092630  0.232101  0.514525  0.470614 -0.005069   \n",
      "hour          0.014412 -0.000202  0.037086  0.013552  0.012575 -0.000184   \n",
      "C1            0.010162  0.005695 -0.013904 -0.006939 -0.011425  0.000293   \n",
      "C2            0.021354  0.005619  0.004571  0.007887  0.010729 -0.055098   \n",
      "C3            0.002335 -0.003647  0.002815  0.003306  0.004317  0.000864   \n",
      "C4            0.003998 -0.006557 -0.018941 -0.008732 -0.006200 -0.022361   \n",
      "C5            0.024300  0.005445  0.007496  0.015806  0.018107 -0.093148   \n",
      "C6            0.019519 -0.000492  0.069547  0.024832  0.029970  0.016071   \n",
      "C7           -0.021584 -0.018189 -0.042991 -0.027543 -0.036457  0.014456   \n",
      "C8           -0.020325 -0.007631 -0.032423 -0.004567 -0.011049  0.011445   \n",
      "N1            0.052563  0.028004  0.125647  0.053844  0.066858 -0.025641   \n",
      "C9            0.041720  0.018534  0.031879  0.024056  0.028030 -0.015461   \n",
      "N2            0.010070  0.003433  0.010651  0.006042  0.006845 -0.019434   \n",
      "N3            0.294465  0.178854  0.681235  0.161171  0.210921  0.019337   \n",
      "N4            0.566682  0.304263  0.825176  0.329649  0.368547 -0.004138   \n",
      "N5           -0.000741 -0.000415  0.102013  0.017159  0.031995  0.004289   \n",
      "N6            1.000000  0.492257  0.669907  0.373009  0.413678 -0.003069   \n",
      "N7            0.492257  1.000000  0.329226  0.070884  0.108547 -0.000391   \n",
      "N8            0.669907  0.329226  1.000000  0.437009  0.493050  0.006068   \n",
      "N9            0.373009  0.070884  0.437009  1.000000  0.904951 -0.010150   \n",
      "N10           0.413678  0.108547  0.493050  0.904951  1.000000 -0.011529   \n",
      "C10          -0.003069 -0.000391  0.006068 -0.010150 -0.011529  1.000000   \n",
      "C11           0.001590  0.002268 -0.003296 -0.005500 -0.003759 -0.007489   \n",
      "C12          -0.028837 -0.013838 -0.077851 -0.024018 -0.029505 -0.016011   \n",
      "\n",
      "                   C11       C12  \n",
      "label        -0.001280 -0.016744  \n",
      "id            0.053341  0.070517  \n",
      "visitTime     0.051994  0.072373  \n",
      "purchaseTime -0.001278 -0.016742  \n",
      "hour          0.052295  0.071955  \n",
      "C1            0.072482  0.148559  \n",
      "C2            0.111602  0.133126  \n",
      "C3            0.021532  0.074496  \n",
      "C4            0.128080  0.211202  \n",
      "C5            0.109476  0.265741  \n",
      "C6           -0.008306  0.039842  \n",
      "C7            0.057068  0.164114  \n",
      "C8           -0.043861 -0.018584  \n",
      "N1           -0.036554 -0.247088  \n",
      "C9            0.042772 -0.007290  \n",
      "N2           -0.006388 -0.126409  \n",
      "N3           -0.013664 -0.075570  \n",
      "N4            0.002419 -0.062559  \n",
      "N5            0.000645 -0.011926  \n",
      "N6            0.001590 -0.028837  \n",
      "N7            0.002268 -0.013838  \n",
      "N8           -0.003296 -0.077851  \n",
      "N9           -0.005500 -0.024018  \n",
      "N10          -0.003759 -0.029505  \n",
      "C10          -0.007489 -0.016011  \n",
      "C11           1.000000  0.380233  \n",
      "C12           0.380233  1.000000  \n",
      "\n",
      "[27 rows x 27 columns]\n"
     ]
    }
   ],
   "source": [
    "corrMatrix = df.corr()\n",
    "print (corrMatrix)"
   ]
  },
  {
   "cell_type": "code",
   "execution_count": 8,
   "metadata": {
    "scrolled": true
   },
   "outputs": [
    {
     "data": {
      "text/plain": [
       "<matplotlib.axes._subplots.AxesSubplot at 0x23f1f297c88>"
      ]
     },
     "execution_count": 8,
     "metadata": {},
     "output_type": "execute_result"
    },
    {
     "data": {
      "image/png": "[encoded data removed]",
      "text/plain": [
       "<Figure size 432x288 with 2 Axes>"
      ]
     },
     "metadata": {
      "needs_background": "light"
     },
     "output_type": "display_data"
    }
   ],
   "source": [
    "sns.heatmap(df.corr(), cmap = 'viridis')"
   ]
  },
  {
   "cell_type": "code",
   "execution_count": null,
   "metadata": {},
   "outputs": [],
   "source": []
  },
  {
   "cell_type": "code",
   "execution_count": 9,
   "metadata": {},
   "outputs": [],
   "source": [
    "# Delete \"id\" because single use value and \"hour\" because it is highly correlated to \"visitTime\"\n",
    "df = df.drop(\"id\",axis =1)\n",
    "df = df.drop(\"hour\",axis = 1)"
   ]
  },
  {
   "cell_type": "code",
   "execution_count": 10,
   "metadata": {},
   "outputs": [
    {
     "data": {
      "text/html": [
       "<div>\n",
       "<style scoped>\n",
       "    .dataframe tbody tr th:only-of-type {\n",
       "        vertical-align: middle;\n",
       "    }\n",
       "\n",
       "    .dataframe tbody tr th {\n",
       "        vertical-align: top;\n",
       "    }\n",
       "\n",
       "    .dataframe thead th {\n",
       "        text-align: right;\n",
       "    }\n",
       "</style>\n",
       "<table border=\"1\" class=\"dataframe\">\n",
       "  <thead>\n",
       "    <tr style=\"text-align: right;\">\n",
       "      <th></th>\n",
       "      <th>label</th>\n",
       "      <th>visitTime</th>\n",
       "      <th>purchaseTime</th>\n",
       "      <th>C1</th>\n",
       "      <th>C2</th>\n",
       "      <th>C3</th>\n",
       "      <th>C4</th>\n",
       "      <th>C5</th>\n",
       "      <th>C6</th>\n",
       "      <th>C7</th>\n",
       "      <th>...</th>\n",
       "      <th>N4</th>\n",
       "      <th>N5</th>\n",
       "      <th>N6</th>\n",
       "      <th>N7</th>\n",
       "      <th>N8</th>\n",
       "      <th>N9</th>\n",
       "      <th>N10</th>\n",
       "      <th>C10</th>\n",
       "      <th>C11</th>\n",
       "      <th>C12</th>\n",
       "    </tr>\n",
       "  </thead>\n",
       "  <tbody>\n",
       "    <tr>\n",
       "      <td>0</td>\n",
       "      <td>-1</td>\n",
       "      <td>19274330</td>\n",
       "      <td>-1</td>\n",
       "      <td>2569487005</td>\n",
       "      <td>1830830742</td>\n",
       "      <td>4228834423</td>\n",
       "      <td>652481754</td>\n",
       "      <td>2967512603</td>\n",
       "      <td>3624739744</td>\n",
       "      <td>2303407174</td>\n",
       "      <td>...</td>\n",
       "      <td>0</td>\n",
       "      <td>0</td>\n",
       "      <td>0</td>\n",
       "      <td>0</td>\n",
       "      <td>0</td>\n",
       "      <td>0</td>\n",
       "      <td>0</td>\n",
       "      <td>419316267</td>\n",
       "      <td>3617851689</td>\n",
       "      <td>4220791646</td>\n",
       "    </tr>\n",
       "    <tr>\n",
       "      <td>1</td>\n",
       "      <td>-1</td>\n",
       "      <td>19274334</td>\n",
       "      <td>-1</td>\n",
       "      <td>3191875643</td>\n",
       "      <td>403381353</td>\n",
       "      <td>1238330876</td>\n",
       "      <td>652481754</td>\n",
       "      <td>2967512603</td>\n",
       "      <td>179712055</td>\n",
       "      <td>2303407174</td>\n",
       "      <td>...</td>\n",
       "      <td>0</td>\n",
       "      <td>0</td>\n",
       "      <td>0</td>\n",
       "      <td>0</td>\n",
       "      <td>1</td>\n",
       "      <td>0</td>\n",
       "      <td>0</td>\n",
       "      <td>1968545380</td>\n",
       "      <td>3831440054</td>\n",
       "      <td>1213938795</td>\n",
       "    </tr>\n",
       "    <tr>\n",
       "      <td>2</td>\n",
       "      <td>-1</td>\n",
       "      <td>19274353</td>\n",
       "      <td>-1</td>\n",
       "      <td>2634604934</td>\n",
       "      <td>403381353</td>\n",
       "      <td>1928325921</td>\n",
       "      <td>652481754</td>\n",
       "      <td>2967512603</td>\n",
       "      <td>1607619193</td>\n",
       "      <td>2303407174</td>\n",
       "      <td>...</td>\n",
       "      <td>0</td>\n",
       "      <td>0</td>\n",
       "      <td>0</td>\n",
       "      <td>0</td>\n",
       "      <td>0</td>\n",
       "      <td>0</td>\n",
       "      <td>0</td>\n",
       "      <td>1405802835</td>\n",
       "      <td>2379633508</td>\n",
       "      <td>1284343215</td>\n",
       "    </tr>\n",
       "    <tr>\n",
       "      <td>3</td>\n",
       "      <td>-1</td>\n",
       "      <td>19274358</td>\n",
       "      <td>-1</td>\n",
       "      <td>2569487005</td>\n",
       "      <td>403381353</td>\n",
       "      <td>296915027</td>\n",
       "      <td>652481754</td>\n",
       "      <td>2967512603</td>\n",
       "      <td>10212495</td>\n",
       "      <td>2303407174</td>\n",
       "      <td>...</td>\n",
       "      <td>0</td>\n",
       "      <td>0</td>\n",
       "      <td>0</td>\n",
       "      <td>0</td>\n",
       "      <td>0</td>\n",
       "      <td>0</td>\n",
       "      <td>0</td>\n",
       "      <td>2299319102</td>\n",
       "      <td>3617851689</td>\n",
       "      <td>4220791646</td>\n",
       "    </tr>\n",
       "    <tr>\n",
       "      <td>4</td>\n",
       "      <td>-1</td>\n",
       "      <td>19274367</td>\n",
       "      <td>-1</td>\n",
       "      <td>2569487005</td>\n",
       "      <td>403381353</td>\n",
       "      <td>681762206</td>\n",
       "      <td>652481754</td>\n",
       "      <td>2967512603</td>\n",
       "      <td>580883881</td>\n",
       "      <td>2303407174</td>\n",
       "      <td>...</td>\n",
       "      <td>0</td>\n",
       "      <td>0</td>\n",
       "      <td>0</td>\n",
       "      <td>0</td>\n",
       "      <td>0</td>\n",
       "      <td>0</td>\n",
       "      <td>0</td>\n",
       "      <td>1306075469</td>\n",
       "      <td>3617851689</td>\n",
       "      <td>4220791646</td>\n",
       "    </tr>\n",
       "  </tbody>\n",
       "</table>\n",
       "<p>5 rows × 25 columns</p>\n",
       "</div>"
      ],
      "text/plain": [
       "   label  visitTime  purchaseTime          C1          C2          C3  \\\n",
       "0     -1   19274330            -1  2569487005  1830830742  4228834423   \n",
       "1     -1   19274334            -1  3191875643   403381353  1238330876   \n",
       "2     -1   19274353            -1  2634604934   403381353  1928325921   \n",
       "3     -1   19274358            -1  2569487005   403381353   296915027   \n",
       "4     -1   19274367            -1  2569487005   403381353   681762206   \n",
       "\n",
       "          C4          C5          C6          C7  ...  N4  N5  N6  N7  N8  N9  \\\n",
       "0  652481754  2967512603  3624739744  2303407174  ...   0   0   0   0   0   0   \n",
       "1  652481754  2967512603   179712055  2303407174  ...   0   0   0   0   1   0   \n",
       "2  652481754  2967512603  1607619193  2303407174  ...   0   0   0   0   0   0   \n",
       "3  652481754  2967512603    10212495  2303407174  ...   0   0   0   0   0   0   \n",
       "4  652481754  2967512603   580883881  2303407174  ...   0   0   0   0   0   0   \n",
       "\n",
       "   N10         C10         C11         C12  \n",
       "0    0   419316267  3617851689  4220791646  \n",
       "1    0  1968545380  3831440054  1213938795  \n",
       "2    0  1405802835  2379633508  1284343215  \n",
       "3    0  2299319102  3617851689  4220791646  \n",
       "4    0  1306075469  3617851689  4220791646  \n",
       "\n",
       "[5 rows x 25 columns]"
      ]
     },
     "execution_count": 10,
     "metadata": {},
     "output_type": "execute_result"
    }
   ],
   "source": [
    "df.head()"
   ]
  },
  {
   "cell_type": "markdown",
   "metadata": {},
   "source": [
    "# Test / Train"
   ]
  },
  {
   "cell_type": "code",
   "execution_count": 11,
   "metadata": {},
   "outputs": [],
   "source": [
    "from sklearn.model_selection import train_test_split"
   ]
  },
  {
   "cell_type": "code",
   "execution_count": 12,
   "metadata": {},
   "outputs": [],
   "source": [
    "#Dividing dataset in Test and Train\n",
    "X = df[df.columns.difference(['label'])]\n",
    "y = df['label']"
   ]
  },
  {
   "cell_type": "code",
   "execution_count": 13,
   "metadata": {},
   "outputs": [],
   "source": [
    "X_train, X_test, y_train, y_test = train_test_split(X, y, random_state = 101, test_size = 0.33,stratify = y)"
   ]
  },
  {
   "cell_type": "markdown",
   "metadata": {},
   "source": [
    "Over and undersampling"
   ]
  },
  {
   "cell_type": "code",
   "execution_count": 14,
   "metadata": {},
   "outputs": [],
   "source": [
    "import seaborn as sns"
   ]
  },
  {
   "cell_type": "code",
   "execution_count": 15,
   "metadata": {},
   "outputs": [
    {
     "data": {
      "text/plain": [
       "<matplotlib.axes._subplots.AxesSubplot at 0x23f1f7a15c8>"
      ]
     },
     "execution_count": 15,
     "metadata": {},
     "output_type": "execute_result"
    },
    {
     "data": {
      "image/png": "[encoded data removed]",
      "text/plain": [
       "<Figure size 432x288 with 1 Axes>"
      ]
     },
     "metadata": {
      "needs_background": "light"
     },
     "output_type": "display_data"
    }
   ],
   "source": [
    "sns.countplot(y_train)"
   ]
  },
  {
   "cell_type": "code",
   "execution_count": null,
   "metadata": {},
   "outputs": [],
   "source": []
  },
  {
   "cell_type": "code",
   "execution_count": 16,
   "metadata": {},
   "outputs": [],
   "source": [
    "#SMOTE (balancing class occurences)\n",
    "from imblearn.over_sampling import SMOTE"
   ]
  },
  {
   "cell_type": "code",
   "execution_count": 17,
   "metadata": {},
   "outputs": [],
   "source": [
    "smt = SMOTE(sampling_strategy = 'minority', random_state = 101)\n",
    "X_train, y_train = smt.fit_resample(X_train, y_train)"
   ]
  },
  {
   "cell_type": "code",
   "execution_count": 18,
   "metadata": {},
   "outputs": [
    {
     "data": {
      "text/plain": [
       "<matplotlib.axes._subplots.AxesSubplot at 0x23f23615948>"
      ]
     },
     "execution_count": 18,
     "metadata": {},
     "output_type": "execute_result"
    },
    {
     "data": {
      "image/png": "[encoded data removed]",
      "text/plain": [
       "<Figure size 432x288 with 1 Axes>"
      ]
     },
     "metadata": {
      "needs_background": "light"
     },
     "output_type": "display_data"
    }
   ],
   "source": [
    "sns.countplot(y_train)"
   ]
  },
  {
   "cell_type": "code",
   "execution_count": 19,
   "metadata": {},
   "outputs": [],
   "source": [
    "#Normalisation\n",
    "from sklearn.preprocessing import StandardScaler\n",
    "scaler = StandardScaler()\n",
    "scaler.fit(X_train)\n",
    "X_train = scaler.transform(X_train)\n",
    "X_test = scaler.transform(X_test)"
   ]
  },
  {
   "cell_type": "code",
   "execution_count": 20,
   "metadata": {},
   "outputs": [
    {
     "name": "stdout",
     "output_type": "stream",
     "text": [
      "(31428, 25)\n"
     ]
    }
   ],
   "source": [
    "print(df.shape)"
   ]
  },
  {
   "cell_type": "markdown",
   "metadata": {},
   "source": [
    "# M1: Logistic Regression"
   ]
  },
  {
   "cell_type": "code",
   "execution_count": 21,
   "metadata": {},
   "outputs": [],
   "source": [
    "from sklearn.linear_model import LogisticRegression"
   ]
  },
  {
   "cell_type": "code",
   "execution_count": 22,
   "metadata": {},
   "outputs": [
    {
     "name": "stdout",
     "output_type": "stream",
     "text": [
      "C: 10\n",
      "Training accuracy: 1.0\n",
      "Test accuracy: 1.0\n",
      "\n",
      "C: 1\n",
      "Training accuracy: 1.0\n",
      "Test accuracy: 1.0\n",
      "\n",
      "C: 0.1\n",
      "Training accuracy: 1.0\n",
      "Test accuracy: 1.0\n",
      "\n",
      "C: 0.001\n",
      "Training accuracy: 1.0\n",
      "Test accuracy: 1.0\n",
      "\n"
     ]
    }
   ],
   "source": [
    "C = [10, 1, .1, .001]\n",
    "for c in C:\n",
    "    clf = LogisticRegression(penalty='l1', C=c, solver='liblinear')\n",
    "    clf.fit(X_train, y_train)\n",
    "    print('C:', c)\n",
    "    print('Training accuracy:', clf.score(X_train, y_train))\n",
    "    print('Test accuracy:', clf.score(X_test, y_test))\n",
    "    print('')"
   ]
  },
  {
   "cell_type": "code",
   "execution_count": 23,
   "metadata": {},
   "outputs": [
    {
     "name": "stdout",
     "output_type": "stream",
     "text": [
      "1.0\n"
     ]
    }
   ],
   "source": [
    "# Using the \"C\" with the best score\n",
    "model_lg = LogisticRegression(penalty='l1', C=0.001, solver='liblinear')\n",
    "model_lg.fit(X_train, y_train)\n",
    "\n",
    "print(model_lg.score(X_test, y_test))"
   ]
  },
  {
   "cell_type": "code",
   "execution_count": 24,
   "metadata": {},
   "outputs": [
    {
     "name": "stdout",
     "output_type": "stream",
     "text": [
      "[-1 -1 -1 ... -1 -1 -1]\n"
     ]
    }
   ],
   "source": [
    "ypred = model_lg.predict(X_test)\n",
    "print(ypred)"
   ]
  },
  {
   "cell_type": "code",
   "execution_count": 25,
   "metadata": {},
   "outputs": [
    {
     "data": {
      "text/plain": [
       "1.0"
      ]
     },
     "execution_count": 25,
     "metadata": {},
     "output_type": "execute_result"
    }
   ],
   "source": [
    "from sklearn.metrics import roc_curve, roc_auc_score, confusion_matrix, classification_report\n",
    "import matplotlib.pyplot as plt\n",
    "roc_auc_score(y_test, ypred)\n"
   ]
  },
  {
   "cell_type": "code",
   "execution_count": 26,
   "metadata": {},
   "outputs": [
    {
     "name": "stdout",
     "output_type": "stream",
     "text": [
      "[0. 0. 1.] [0. 1. 1.] [ 2  1 -1]\n"
     ]
    }
   ],
   "source": [
    "fpr, tpr, thresholds = roc_curve(y_test, ypred)\n",
    "print (fpr, tpr, thresholds)"
   ]
  },
  {
   "cell_type": "code",
   "execution_count": 27,
   "metadata": {},
   "outputs": [
    {
     "data": {
      "text/plain": [
       "[<matplotlib.lines.Line2D at 0x23f231a7688>]"
      ]
     },
     "execution_count": 27,
     "metadata": {},
     "output_type": "execute_result"
    },
    {
     "data": {
      "image/png": "[encoded data removed]",
      "text/plain": [
       "<Figure size 432x288 with 1 Axes>"
      ]
     },
     "metadata": {
      "needs_background": "light"
     },
     "output_type": "display_data"
    }
   ],
   "source": [
    "plt.plot(fpr, tpr)"
   ]
  },
  {
   "cell_type": "code",
   "execution_count": 28,
   "metadata": {},
   "outputs": [
    {
     "name": "stdout",
     "output_type": "stream",
     "text": [
      "1.0\n"
     ]
    }
   ],
   "source": [
    "auc = roc_auc_score(y_test,ypred)\n",
    "print(auc)"
   ]
  },
  {
   "cell_type": "code",
   "execution_count": 29,
   "metadata": {},
   "outputs": [
    {
     "name": "stdout",
     "output_type": "stream",
     "text": [
      "              precision    recall  f1-score   support\n",
      "\n",
      "          -1       1.00      1.00      1.00     10353\n",
      "           1       1.00      1.00      1.00        19\n",
      "\n",
      "    accuracy                           1.00     10372\n",
      "   macro avg       1.00      1.00      1.00     10372\n",
      "weighted avg       1.00      1.00      1.00     10372\n",
      "\n"
     ]
    }
   ],
   "source": [
    "print(classification_report(y_test,ypred))"
   ]
  },
  {
   "cell_type": "markdown",
   "metadata": {},
   "source": [
    "# M2: Random Forest"
   ]
  },
  {
   "cell_type": "code",
   "execution_count": 30,
   "metadata": {},
   "outputs": [],
   "source": [
    "from sklearn.ensemble import RandomForestClassifier"
   ]
  },
  {
   "cell_type": "code",
   "execution_count": 31,
   "metadata": {},
   "outputs": [
    {
     "name": "stdout",
     "output_type": "stream",
     "text": [
      "1.0\n"
     ]
    }
   ],
   "source": [
    "model_rf = RandomForestClassifier(criterion = \"entropy\", n_estimators =30)\n",
    "model_rf.fit(X_train,y_train)\n",
    "\n",
    "print(model_rf.score(X_test,y_test))"
   ]
  },
  {
   "cell_type": "code",
   "execution_count": 32,
   "metadata": {},
   "outputs": [
    {
     "data": {
      "text/plain": [
       "[DecisionTreeClassifier(ccp_alpha=0.0, class_weight=None, criterion='entropy',\n",
       "                        max_depth=None, max_features='auto', max_leaf_nodes=None,\n",
       "                        min_impurity_decrease=0.0, min_impurity_split=None,\n",
       "                        min_samples_leaf=1, min_samples_split=2,\n",
       "                        min_weight_fraction_leaf=0.0, presort='deprecated',\n",
       "                        random_state=1331439494, splitter='best'),\n",
       " DecisionTreeClassifier(ccp_alpha=0.0, class_weight=None, criterion='entropy',\n",
       "                        max_depth=None, max_features='auto', max_leaf_nodes=None,\n",
       "                        min_impurity_decrease=0.0, min_impurity_split=None,\n",
       "                        min_samples_leaf=1, min_samples_split=2,\n",
       "                        min_weight_fraction_leaf=0.0, presort='deprecated',\n",
       "                        random_state=738063333, splitter='best'),\n",
       " DecisionTreeClassifier(ccp_alpha=0.0, class_weight=None, criterion='entropy',\n",
       "                        max_depth=None, max_features='auto', max_leaf_nodes=None,\n",
       "                        min_impurity_decrease=0.0, min_impurity_split=None,\n",
       "                        min_samples_leaf=1, min_samples_split=2,\n",
       "                        min_weight_fraction_leaf=0.0, presort='deprecated',\n",
       "                        random_state=700703283, splitter='best'),\n",
       " DecisionTreeClassifier(ccp_alpha=0.0, class_weight=None, criterion='entropy',\n",
       "                        max_depth=None, max_features='auto', max_leaf_nodes=None,\n",
       "                        min_impurity_decrease=0.0, min_impurity_split=None,\n",
       "                        min_samples_leaf=1, min_samples_split=2,\n",
       "                        min_weight_fraction_leaf=0.0, presort='deprecated',\n",
       "                        random_state=1835046570, splitter='best'),\n",
       " DecisionTreeClassifier(ccp_alpha=0.0, class_weight=None, criterion='entropy',\n",
       "                        max_depth=None, max_features='auto', max_leaf_nodes=None,\n",
       "                        min_impurity_decrease=0.0, min_impurity_split=None,\n",
       "                        min_samples_leaf=1, min_samples_split=2,\n",
       "                        min_weight_fraction_leaf=0.0, presort='deprecated',\n",
       "                        random_state=9540771, splitter='best'),\n",
       " DecisionTreeClassifier(ccp_alpha=0.0, class_weight=None, criterion='entropy',\n",
       "                        max_depth=None, max_features='auto', max_leaf_nodes=None,\n",
       "                        min_impurity_decrease=0.0, min_impurity_split=None,\n",
       "                        min_samples_leaf=1, min_samples_split=2,\n",
       "                        min_weight_fraction_leaf=0.0, presort='deprecated',\n",
       "                        random_state=444337101, splitter='best'),\n",
       " DecisionTreeClassifier(ccp_alpha=0.0, class_weight=None, criterion='entropy',\n",
       "                        max_depth=None, max_features='auto', max_leaf_nodes=None,\n",
       "                        min_impurity_decrease=0.0, min_impurity_split=None,\n",
       "                        min_samples_leaf=1, min_samples_split=2,\n",
       "                        min_weight_fraction_leaf=0.0, presort='deprecated',\n",
       "                        random_state=180327537, splitter='best'),\n",
       " DecisionTreeClassifier(ccp_alpha=0.0, class_weight=None, criterion='entropy',\n",
       "                        max_depth=None, max_features='auto', max_leaf_nodes=None,\n",
       "                        min_impurity_decrease=0.0, min_impurity_split=None,\n",
       "                        min_samples_leaf=1, min_samples_split=2,\n",
       "                        min_weight_fraction_leaf=0.0, presort='deprecated',\n",
       "                        random_state=1302417614, splitter='best'),\n",
       " DecisionTreeClassifier(ccp_alpha=0.0, class_weight=None, criterion='entropy',\n",
       "                        max_depth=None, max_features='auto', max_leaf_nodes=None,\n",
       "                        min_impurity_decrease=0.0, min_impurity_split=None,\n",
       "                        min_samples_leaf=1, min_samples_split=2,\n",
       "                        min_weight_fraction_leaf=0.0, presort='deprecated',\n",
       "                        random_state=1823725218, splitter='best'),\n",
       " DecisionTreeClassifier(ccp_alpha=0.0, class_weight=None, criterion='entropy',\n",
       "                        max_depth=None, max_features='auto', max_leaf_nodes=None,\n",
       "                        min_impurity_decrease=0.0, min_impurity_split=None,\n",
       "                        min_samples_leaf=1, min_samples_split=2,\n",
       "                        min_weight_fraction_leaf=0.0, presort='deprecated',\n",
       "                        random_state=644017205, splitter='best'),\n",
       " DecisionTreeClassifier(ccp_alpha=0.0, class_weight=None, criterion='entropy',\n",
       "                        max_depth=None, max_features='auto', max_leaf_nodes=None,\n",
       "                        min_impurity_decrease=0.0, min_impurity_split=None,\n",
       "                        min_samples_leaf=1, min_samples_split=2,\n",
       "                        min_weight_fraction_leaf=0.0, presort='deprecated',\n",
       "                        random_state=2101363844, splitter='best'),\n",
       " DecisionTreeClassifier(ccp_alpha=0.0, class_weight=None, criterion='entropy',\n",
       "                        max_depth=None, max_features='auto', max_leaf_nodes=None,\n",
       "                        min_impurity_decrease=0.0, min_impurity_split=None,\n",
       "                        min_samples_leaf=1, min_samples_split=2,\n",
       "                        min_weight_fraction_leaf=0.0, presort='deprecated',\n",
       "                        random_state=1987447971, splitter='best'),\n",
       " DecisionTreeClassifier(ccp_alpha=0.0, class_weight=None, criterion='entropy',\n",
       "                        max_depth=None, max_features='auto', max_leaf_nodes=None,\n",
       "                        min_impurity_decrease=0.0, min_impurity_split=None,\n",
       "                        min_samples_leaf=1, min_samples_split=2,\n",
       "                        min_weight_fraction_leaf=0.0, presort='deprecated',\n",
       "                        random_state=1115079205, splitter='best'),\n",
       " DecisionTreeClassifier(ccp_alpha=0.0, class_weight=None, criterion='entropy',\n",
       "                        max_depth=None, max_features='auto', max_leaf_nodes=None,\n",
       "                        min_impurity_decrease=0.0, min_impurity_split=None,\n",
       "                        min_samples_leaf=1, min_samples_split=2,\n",
       "                        min_weight_fraction_leaf=0.0, presort='deprecated',\n",
       "                        random_state=1301606348, splitter='best'),\n",
       " DecisionTreeClassifier(ccp_alpha=0.0, class_weight=None, criterion='entropy',\n",
       "                        max_depth=None, max_features='auto', max_leaf_nodes=None,\n",
       "                        min_impurity_decrease=0.0, min_impurity_split=None,\n",
       "                        min_samples_leaf=1, min_samples_split=2,\n",
       "                        min_weight_fraction_leaf=0.0, presort='deprecated',\n",
       "                        random_state=138797440, splitter='best'),\n",
       " DecisionTreeClassifier(ccp_alpha=0.0, class_weight=None, criterion='entropy',\n",
       "                        max_depth=None, max_features='auto', max_leaf_nodes=None,\n",
       "                        min_impurity_decrease=0.0, min_impurity_split=None,\n",
       "                        min_samples_leaf=1, min_samples_split=2,\n",
       "                        min_weight_fraction_leaf=0.0, presort='deprecated',\n",
       "                        random_state=399092018, splitter='best'),\n",
       " DecisionTreeClassifier(ccp_alpha=0.0, class_weight=None, criterion='entropy',\n",
       "                        max_depth=None, max_features='auto', max_leaf_nodes=None,\n",
       "                        min_impurity_decrease=0.0, min_impurity_split=None,\n",
       "                        min_samples_leaf=1, min_samples_split=2,\n",
       "                        min_weight_fraction_leaf=0.0, presort='deprecated',\n",
       "                        random_state=1364753688, splitter='best'),\n",
       " DecisionTreeClassifier(ccp_alpha=0.0, class_weight=None, criterion='entropy',\n",
       "                        max_depth=None, max_features='auto', max_leaf_nodes=None,\n",
       "                        min_impurity_decrease=0.0, min_impurity_split=None,\n",
       "                        min_samples_leaf=1, min_samples_split=2,\n",
       "                        min_weight_fraction_leaf=0.0, presort='deprecated',\n",
       "                        random_state=487654682, splitter='best'),\n",
       " DecisionTreeClassifier(ccp_alpha=0.0, class_weight=None, criterion='entropy',\n",
       "                        max_depth=None, max_features='auto', max_leaf_nodes=None,\n",
       "                        min_impurity_decrease=0.0, min_impurity_split=None,\n",
       "                        min_samples_leaf=1, min_samples_split=2,\n",
       "                        min_weight_fraction_leaf=0.0, presort='deprecated',\n",
       "                        random_state=949465236, splitter='best'),\n",
       " DecisionTreeClassifier(ccp_alpha=0.0, class_weight=None, criterion='entropy',\n",
       "                        max_depth=None, max_features='auto', max_leaf_nodes=None,\n",
       "                        min_impurity_decrease=0.0, min_impurity_split=None,\n",
       "                        min_samples_leaf=1, min_samples_split=2,\n",
       "                        min_weight_fraction_leaf=0.0, presort='deprecated',\n",
       "                        random_state=1786474545, splitter='best'),\n",
       " DecisionTreeClassifier(ccp_alpha=0.0, class_weight=None, criterion='entropy',\n",
       "                        max_depth=None, max_features='auto', max_leaf_nodes=None,\n",
       "                        min_impurity_decrease=0.0, min_impurity_split=None,\n",
       "                        min_samples_leaf=1, min_samples_split=2,\n",
       "                        min_weight_fraction_leaf=0.0, presort='deprecated',\n",
       "                        random_state=2108388233, splitter='best'),\n",
       " DecisionTreeClassifier(ccp_alpha=0.0, class_weight=None, criterion='entropy',\n",
       "                        max_depth=None, max_features='auto', max_leaf_nodes=None,\n",
       "                        min_impurity_decrease=0.0, min_impurity_split=None,\n",
       "                        min_samples_leaf=1, min_samples_split=2,\n",
       "                        min_weight_fraction_leaf=0.0, presort='deprecated',\n",
       "                        random_state=1956718666, splitter='best'),\n",
       " DecisionTreeClassifier(ccp_alpha=0.0, class_weight=None, criterion='entropy',\n",
       "                        max_depth=None, max_features='auto', max_leaf_nodes=None,\n",
       "                        min_impurity_decrease=0.0, min_impurity_split=None,\n",
       "                        min_samples_leaf=1, min_samples_split=2,\n",
       "                        min_weight_fraction_leaf=0.0, presort='deprecated',\n",
       "                        random_state=1417923803, splitter='best'),\n",
       " DecisionTreeClassifier(ccp_alpha=0.0, class_weight=None, criterion='entropy',\n",
       "                        max_depth=None, max_features='auto', max_leaf_nodes=None,\n",
       "                        min_impurity_decrease=0.0, min_impurity_split=None,\n",
       "                        min_samples_leaf=1, min_samples_split=2,\n",
       "                        min_weight_fraction_leaf=0.0, presort='deprecated',\n",
       "                        random_state=1368220557, splitter='best'),\n",
       " DecisionTreeClassifier(ccp_alpha=0.0, class_weight=None, criterion='entropy',\n",
       "                        max_depth=None, max_features='auto', max_leaf_nodes=None,\n",
       "                        min_impurity_decrease=0.0, min_impurity_split=None,\n",
       "                        min_samples_leaf=1, min_samples_split=2,\n",
       "                        min_weight_fraction_leaf=0.0, presort='deprecated',\n",
       "                        random_state=602061267, splitter='best'),\n",
       " DecisionTreeClassifier(ccp_alpha=0.0, class_weight=None, criterion='entropy',\n",
       "                        max_depth=None, max_features='auto', max_leaf_nodes=None,\n",
       "                        min_impurity_decrease=0.0, min_impurity_split=None,\n",
       "                        min_samples_leaf=1, min_samples_split=2,\n",
       "                        min_weight_fraction_leaf=0.0, presort='deprecated',\n",
       "                        random_state=2062698275, splitter='best'),\n",
       " DecisionTreeClassifier(ccp_alpha=0.0, class_weight=None, criterion='entropy',\n",
       "                        max_depth=None, max_features='auto', max_leaf_nodes=None,\n",
       "                        min_impurity_decrease=0.0, min_impurity_split=None,\n",
       "                        min_samples_leaf=1, min_samples_split=2,\n",
       "                        min_weight_fraction_leaf=0.0, presort='deprecated',\n",
       "                        random_state=865261892, splitter='best'),\n",
       " DecisionTreeClassifier(ccp_alpha=0.0, class_weight=None, criterion='entropy',\n",
       "                        max_depth=None, max_features='auto', max_leaf_nodes=None,\n",
       "                        min_impurity_decrease=0.0, min_impurity_split=None,\n",
       "                        min_samples_leaf=1, min_samples_split=2,\n",
       "                        min_weight_fraction_leaf=0.0, presort='deprecated',\n",
       "                        random_state=1971582655, splitter='best'),\n",
       " DecisionTreeClassifier(ccp_alpha=0.0, class_weight=None, criterion='entropy',\n",
       "                        max_depth=None, max_features='auto', max_leaf_nodes=None,\n",
       "                        min_impurity_decrease=0.0, min_impurity_split=None,\n",
       "                        min_samples_leaf=1, min_samples_split=2,\n",
       "                        min_weight_fraction_leaf=0.0, presort='deprecated',\n",
       "                        random_state=48783147, splitter='best'),\n",
       " DecisionTreeClassifier(ccp_alpha=0.0, class_weight=None, criterion='entropy',\n",
       "                        max_depth=None, max_features='auto', max_leaf_nodes=None,\n",
       "                        min_impurity_decrease=0.0, min_impurity_split=None,\n",
       "                        min_samples_leaf=1, min_samples_split=2,\n",
       "                        min_weight_fraction_leaf=0.0, presort='deprecated',\n",
       "                        random_state=784072532, splitter='best')]"
      ]
     },
     "execution_count": 32,
     "metadata": {},
     "output_type": "execute_result"
    }
   ],
   "source": [
    "model_rf.estimators_"
   ]
  },
  {
   "cell_type": "code",
   "execution_count": 33,
   "metadata": {},
   "outputs": [],
   "source": [
    "# class label as an output\n",
    "y_pred_rf = model_rf.predict(X_test)"
   ]
  },
  {
   "cell_type": "code",
   "execution_count": 34,
   "metadata": {},
   "outputs": [],
   "source": [
    "# proba as an output\n",
    "y_prob_rf = model_rf.predict_proba(X_test)"
   ]
  },
  {
   "cell_type": "code",
   "execution_count": 35,
   "metadata": {},
   "outputs": [
    {
     "data": {
      "text/plain": [
       "1.0"
      ]
     },
     "execution_count": 35,
     "metadata": {},
     "output_type": "execute_result"
    }
   ],
   "source": [
    "roc_auc_score(y_test, y_pred_rf)"
   ]
  },
  {
   "cell_type": "code",
   "execution_count": 36,
   "metadata": {},
   "outputs": [
    {
     "name": "stdout",
     "output_type": "stream",
     "text": [
      "[0. 0. 1.] [0. 1. 1.] [ 2  1 -1]\n"
     ]
    }
   ],
   "source": [
    "fpr1, tpr1, thresholds = roc_curve(y_test, y_pred_rf)\n",
    "print (fpr1, tpr, thresholds)"
   ]
  },
  {
   "cell_type": "code",
   "execution_count": 37,
   "metadata": {},
   "outputs": [
    {
     "data": {
      "text/plain": [
       "[<matplotlib.lines.Line2D at 0x23f1f93fa08>]"
      ]
     },
     "execution_count": 37,
     "metadata": {},
     "output_type": "execute_result"
    },
    {
     "data": {
      "image/png": "[encoded data removed]",
      "text/plain": [
       "<Figure size 432x288 with 1 Axes>"
      ]
     },
     "metadata": {
      "needs_background": "light"
     },
     "output_type": "display_data"
    }
   ],
   "source": [
    "plt.plot(fpr1, tpr1)"
   ]
  },
  {
   "cell_type": "code",
   "execution_count": 38,
   "metadata": {},
   "outputs": [
    {
     "name": "stdout",
     "output_type": "stream",
     "text": [
      "              precision    recall  f1-score   support\n",
      "\n",
      "          -1       1.00      1.00      1.00     10353\n",
      "           1       1.00      1.00      1.00        19\n",
      "\n",
      "    accuracy                           1.00     10372\n",
      "   macro avg       1.00      1.00      1.00     10372\n",
      "weighted avg       1.00      1.00      1.00     10372\n",
      "\n"
     ]
    }
   ],
   "source": [
    "print(classification_report(y_test,y_pred_rf))"
   ]
  },
  {
   "cell_type": "markdown",
   "metadata": {},
   "source": [
    "# Using Model on Test Data Set"
   ]
  },
  {
   "cell_type": "code",
   "execution_count": 39,
   "metadata": {},
   "outputs": [
    {
     "data": {
      "text/html": [
       "<div>\n",
       "<style scoped>\n",
       "    .dataframe tbody tr th:only-of-type {\n",
       "        vertical-align: middle;\n",
       "    }\n",
       "\n",
       "    .dataframe tbody tr th {\n",
       "        vertical-align: top;\n",
       "    }\n",
       "\n",
       "    .dataframe thead th {\n",
       "        text-align: right;\n",
       "    }\n",
       "</style>\n",
       "<table border=\"1\" class=\"dataframe\">\n",
       "  <thead>\n",
       "    <tr style=\"text-align: right;\">\n",
       "      <th></th>\n",
       "      <th>label</th>\n",
       "      <th>id</th>\n",
       "      <th>visitTime</th>\n",
       "      <th>purchaseTime</th>\n",
       "      <th>hour</th>\n",
       "      <th>C1</th>\n",
       "      <th>C2</th>\n",
       "      <th>C3</th>\n",
       "      <th>C4</th>\n",
       "      <th>C5</th>\n",
       "      <th>...</th>\n",
       "      <th>N4</th>\n",
       "      <th>N5</th>\n",
       "      <th>N6</th>\n",
       "      <th>N7</th>\n",
       "      <th>N8</th>\n",
       "      <th>N9</th>\n",
       "      <th>N10</th>\n",
       "      <th>C10</th>\n",
       "      <th>C11</th>\n",
       "      <th>C12</th>\n",
       "    </tr>\n",
       "  </thead>\n",
       "  <tbody>\n",
       "    <tr>\n",
       "      <td>0</td>\n",
       "      <td>-1</td>\n",
       "      <td>1</td>\n",
       "      <td>19360733</td>\n",
       "      <td>-1</td>\n",
       "      <td>0</td>\n",
       "      <td>2569487005</td>\n",
       "      <td>403381353</td>\n",
       "      <td>681762206</td>\n",
       "      <td>652481754</td>\n",
       "      <td>2967512603</td>\n",
       "      <td>...</td>\n",
       "      <td>0</td>\n",
       "      <td>0</td>\n",
       "      <td>0</td>\n",
       "      <td>0</td>\n",
       "      <td>0</td>\n",
       "      <td>0</td>\n",
       "      <td>0</td>\n",
       "      <td>2128770044</td>\n",
       "      <td>3617851689</td>\n",
       "      <td>4220791646</td>\n",
       "    </tr>\n",
       "    <tr>\n",
       "      <td>1</td>\n",
       "      <td>-1</td>\n",
       "      <td>2</td>\n",
       "      <td>19360734</td>\n",
       "      <td>-1</td>\n",
       "      <td>0</td>\n",
       "      <td>2416811818</td>\n",
       "      <td>1235983246</td>\n",
       "      <td>3653557526</td>\n",
       "      <td>652481754</td>\n",
       "      <td>2116767313</td>\n",
       "      <td>...</td>\n",
       "      <td>0</td>\n",
       "      <td>0</td>\n",
       "      <td>0</td>\n",
       "      <td>0</td>\n",
       "      <td>0</td>\n",
       "      <td>0</td>\n",
       "      <td>0</td>\n",
       "      <td>4256459078</td>\n",
       "      <td>2379633508</td>\n",
       "      <td>1284343215</td>\n",
       "    </tr>\n",
       "    <tr>\n",
       "      <td>2</td>\n",
       "      <td>-1</td>\n",
       "      <td>3</td>\n",
       "      <td>19360735</td>\n",
       "      <td>-1</td>\n",
       "      <td>0</td>\n",
       "      <td>3765056181</td>\n",
       "      <td>1235983246</td>\n",
       "      <td>1310333812</td>\n",
       "      <td>652481754</td>\n",
       "      <td>2116767313</td>\n",
       "      <td>...</td>\n",
       "      <td>0</td>\n",
       "      <td>0</td>\n",
       "      <td>0</td>\n",
       "      <td>0</td>\n",
       "      <td>0</td>\n",
       "      <td>0</td>\n",
       "      <td>0</td>\n",
       "      <td>2840358457</td>\n",
       "      <td>3831440054</td>\n",
       "      <td>1213938795</td>\n",
       "    </tr>\n",
       "    <tr>\n",
       "      <td>3</td>\n",
       "      <td>-1</td>\n",
       "      <td>4</td>\n",
       "      <td>19360737</td>\n",
       "      <td>-1</td>\n",
       "      <td>0</td>\n",
       "      <td>955802445</td>\n",
       "      <td>403381353</td>\n",
       "      <td>2290282995</td>\n",
       "      <td>652481754</td>\n",
       "      <td>2967512603</td>\n",
       "      <td>...</td>\n",
       "      <td>0</td>\n",
       "      <td>0</td>\n",
       "      <td>0</td>\n",
       "      <td>0</td>\n",
       "      <td>0</td>\n",
       "      <td>0</td>\n",
       "      <td>0</td>\n",
       "      <td>4039873369</td>\n",
       "      <td>535829057</td>\n",
       "      <td>3828748840</td>\n",
       "    </tr>\n",
       "    <tr>\n",
       "      <td>4</td>\n",
       "      <td>-1</td>\n",
       "      <td>5</td>\n",
       "      <td>19360752</td>\n",
       "      <td>-1</td>\n",
       "      <td>0</td>\n",
       "      <td>2569487005</td>\n",
       "      <td>2517724481</td>\n",
       "      <td>2463986301</td>\n",
       "      <td>2308170622</td>\n",
       "      <td>2967512603</td>\n",
       "      <td>...</td>\n",
       "      <td>0</td>\n",
       "      <td>0</td>\n",
       "      <td>0</td>\n",
       "      <td>0</td>\n",
       "      <td>0</td>\n",
       "      <td>0</td>\n",
       "      <td>0</td>\n",
       "      <td>907610626</td>\n",
       "      <td>3617851689</td>\n",
       "      <td>4220791646</td>\n",
       "    </tr>\n",
       "  </tbody>\n",
       "</table>\n",
       "<p>5 rows × 27 columns</p>\n",
       "</div>"
      ],
      "text/plain": [
       "   label  id  visitTime  purchaseTime  hour          C1          C2  \\\n",
       "0     -1   1   19360733            -1     0  2569487005   403381353   \n",
       "1     -1   2   19360734            -1     0  2416811818  1235983246   \n",
       "2     -1   3   19360735            -1     0  3765056181  1235983246   \n",
       "3     -1   4   19360737            -1     0   955802445   403381353   \n",
       "4     -1   5   19360752            -1     0  2569487005  2517724481   \n",
       "\n",
       "           C3          C4          C5  ...  N4  N5  N6  N7  N8  N9  N10  \\\n",
       "0   681762206   652481754  2967512603  ...   0   0   0   0   0   0    0   \n",
       "1  3653557526   652481754  2116767313  ...   0   0   0   0   0   0    0   \n",
       "2  1310333812   652481754  2116767313  ...   0   0   0   0   0   0    0   \n",
       "3  2290282995   652481754  2967512603  ...   0   0   0   0   0   0    0   \n",
       "4  2463986301  2308170622  2967512603  ...   0   0   0   0   0   0    0   \n",
       "\n",
       "          C10         C11         C12  \n",
       "0  2128770044  3617851689  4220791646  \n",
       "1  4256459078  2379633508  1284343215  \n",
       "2  2840358457  3831440054  1213938795  \n",
       "3  4039873369   535829057  3828748840  \n",
       "4   907610626  3617851689  4220791646  \n",
       "\n",
       "[5 rows x 27 columns]"
      ]
     },
     "execution_count": 39,
     "metadata": {},
     "output_type": "execute_result"
    }
   ],
   "source": [
    "df_test.head()"
   ]
  },
  {
   "cell_type": "code",
   "execution_count": 40,
   "metadata": {},
   "outputs": [
    {
     "data": {
      "text/plain": [
       "Index(['label', 'id', 'visitTime', 'purchaseTime', 'hour', 'C1', 'C2', 'C3',\n",
       "       'C4', 'C5', 'C6', 'C7', 'C8', 'N1', 'C9', 'N2', 'N3', 'N4', 'N5', 'N6',\n",
       "       'N7', 'N8', 'N9', 'N10', 'C10', 'C11', 'C12'],\n",
       "      dtype='object')"
      ]
     },
     "execution_count": 40,
     "metadata": {},
     "output_type": "execute_result"
    }
   ],
   "source": [
    "df_test.columns"
   ]
  },
  {
   "cell_type": "code",
   "execution_count": 41,
   "metadata": {},
   "outputs": [],
   "source": [
    "df_test.drop(['hour','label'], axis=1, inplace=True)"
   ]
  },
  {
   "cell_type": "code",
   "execution_count": 42,
   "metadata": {},
   "outputs": [
    {
     "data": {
      "text/html": [
       "<div>\n",
       "<style scoped>\n",
       "    .dataframe tbody tr th:only-of-type {\n",
       "        vertical-align: middle;\n",
       "    }\n",
       "\n",
       "    .dataframe tbody tr th {\n",
       "        vertical-align: top;\n",
       "    }\n",
       "\n",
       "    .dataframe thead th {\n",
       "        text-align: right;\n",
       "    }\n",
       "</style>\n",
       "<table border=\"1\" class=\"dataframe\">\n",
       "  <thead>\n",
       "    <tr style=\"text-align: right;\">\n",
       "      <th></th>\n",
       "      <th>id</th>\n",
       "      <th>visitTime</th>\n",
       "      <th>purchaseTime</th>\n",
       "      <th>C1</th>\n",
       "      <th>C2</th>\n",
       "      <th>C3</th>\n",
       "      <th>C4</th>\n",
       "      <th>C5</th>\n",
       "      <th>C6</th>\n",
       "      <th>C7</th>\n",
       "      <th>...</th>\n",
       "      <th>N4</th>\n",
       "      <th>N5</th>\n",
       "      <th>N6</th>\n",
       "      <th>N7</th>\n",
       "      <th>N8</th>\n",
       "      <th>N9</th>\n",
       "      <th>N10</th>\n",
       "      <th>C10</th>\n",
       "      <th>C11</th>\n",
       "      <th>C12</th>\n",
       "    </tr>\n",
       "  </thead>\n",
       "  <tbody>\n",
       "    <tr>\n",
       "      <td>0</td>\n",
       "      <td>1</td>\n",
       "      <td>19360733</td>\n",
       "      <td>-1</td>\n",
       "      <td>2569487005</td>\n",
       "      <td>403381353</td>\n",
       "      <td>681762206</td>\n",
       "      <td>652481754</td>\n",
       "      <td>2967512603</td>\n",
       "      <td>580883881</td>\n",
       "      <td>2303407174</td>\n",
       "      <td>...</td>\n",
       "      <td>0</td>\n",
       "      <td>0</td>\n",
       "      <td>0</td>\n",
       "      <td>0</td>\n",
       "      <td>0</td>\n",
       "      <td>0</td>\n",
       "      <td>0</td>\n",
       "      <td>2128770044</td>\n",
       "      <td>3617851689</td>\n",
       "      <td>4220791646</td>\n",
       "    </tr>\n",
       "    <tr>\n",
       "      <td>1</td>\n",
       "      <td>2</td>\n",
       "      <td>19360734</td>\n",
       "      <td>-1</td>\n",
       "      <td>2416811818</td>\n",
       "      <td>1235983246</td>\n",
       "      <td>3653557526</td>\n",
       "      <td>652481754</td>\n",
       "      <td>2116767313</td>\n",
       "      <td>571765677</td>\n",
       "      <td>2303407174</td>\n",
       "      <td>...</td>\n",
       "      <td>0</td>\n",
       "      <td>0</td>\n",
       "      <td>0</td>\n",
       "      <td>0</td>\n",
       "      <td>0</td>\n",
       "      <td>0</td>\n",
       "      <td>0</td>\n",
       "      <td>4256459078</td>\n",
       "      <td>2379633508</td>\n",
       "      <td>1284343215</td>\n",
       "    </tr>\n",
       "    <tr>\n",
       "      <td>2</td>\n",
       "      <td>3</td>\n",
       "      <td>19360735</td>\n",
       "      <td>-1</td>\n",
       "      <td>3765056181</td>\n",
       "      <td>1235983246</td>\n",
       "      <td>1310333812</td>\n",
       "      <td>652481754</td>\n",
       "      <td>2116767313</td>\n",
       "      <td>571765677</td>\n",
       "      <td>2303407174</td>\n",
       "      <td>...</td>\n",
       "      <td>0</td>\n",
       "      <td>0</td>\n",
       "      <td>0</td>\n",
       "      <td>0</td>\n",
       "      <td>0</td>\n",
       "      <td>0</td>\n",
       "      <td>0</td>\n",
       "      <td>2840358457</td>\n",
       "      <td>3831440054</td>\n",
       "      <td>1213938795</td>\n",
       "    </tr>\n",
       "    <tr>\n",
       "      <td>3</td>\n",
       "      <td>4</td>\n",
       "      <td>19360737</td>\n",
       "      <td>-1</td>\n",
       "      <td>955802445</td>\n",
       "      <td>403381353</td>\n",
       "      <td>2290282995</td>\n",
       "      <td>652481754</td>\n",
       "      <td>2967512603</td>\n",
       "      <td>1607619193</td>\n",
       "      <td>1342367140</td>\n",
       "      <td>...</td>\n",
       "      <td>0</td>\n",
       "      <td>0</td>\n",
       "      <td>0</td>\n",
       "      <td>0</td>\n",
       "      <td>0</td>\n",
       "      <td>0</td>\n",
       "      <td>0</td>\n",
       "      <td>4039873369</td>\n",
       "      <td>535829057</td>\n",
       "      <td>3828748840</td>\n",
       "    </tr>\n",
       "    <tr>\n",
       "      <td>4</td>\n",
       "      <td>5</td>\n",
       "      <td>19360752</td>\n",
       "      <td>-1</td>\n",
       "      <td>2569487005</td>\n",
       "      <td>2517724481</td>\n",
       "      <td>2463986301</td>\n",
       "      <td>2308170622</td>\n",
       "      <td>2967512603</td>\n",
       "      <td>580883881</td>\n",
       "      <td>2303407174</td>\n",
       "      <td>...</td>\n",
       "      <td>0</td>\n",
       "      <td>0</td>\n",
       "      <td>0</td>\n",
       "      <td>0</td>\n",
       "      <td>0</td>\n",
       "      <td>0</td>\n",
       "      <td>0</td>\n",
       "      <td>907610626</td>\n",
       "      <td>3617851689</td>\n",
       "      <td>4220791646</td>\n",
       "    </tr>\n",
       "  </tbody>\n",
       "</table>\n",
       "<p>5 rows × 25 columns</p>\n",
       "</div>"
      ],
      "text/plain": [
       "   id  visitTime  purchaseTime          C1          C2          C3  \\\n",
       "0   1   19360733            -1  2569487005   403381353   681762206   \n",
       "1   2   19360734            -1  2416811818  1235983246  3653557526   \n",
       "2   3   19360735            -1  3765056181  1235983246  1310333812   \n",
       "3   4   19360737            -1   955802445   403381353  2290282995   \n",
       "4   5   19360752            -1  2569487005  2517724481  2463986301   \n",
       "\n",
       "           C4          C5          C6          C7  ...  N4  N5  N6  N7  N8  \\\n",
       "0   652481754  2967512603   580883881  2303407174  ...   0   0   0   0   0   \n",
       "1   652481754  2116767313   571765677  2303407174  ...   0   0   0   0   0   \n",
       "2   652481754  2116767313   571765677  2303407174  ...   0   0   0   0   0   \n",
       "3   652481754  2967512603  1607619193  1342367140  ...   0   0   0   0   0   \n",
       "4  2308170622  2967512603   580883881  2303407174  ...   0   0   0   0   0   \n",
       "\n",
       "   N9  N10         C10         C11         C12  \n",
       "0   0    0  2128770044  3617851689  4220791646  \n",
       "1   0    0  4256459078  2379633508  1284343215  \n",
       "2   0    0  2840358457  3831440054  1213938795  \n",
       "3   0    0  4039873369   535829057  3828748840  \n",
       "4   0    0   907610626  3617851689  4220791646  \n",
       "\n",
       "[5 rows x 25 columns]"
      ]
     },
     "execution_count": 42,
     "metadata": {},
     "output_type": "execute_result"
    }
   ],
   "source": [
    "df_test.head()"
   ]
  },
  {
   "cell_type": "code",
   "execution_count": 43,
   "metadata": {},
   "outputs": [],
   "source": [
    "X_val = df_test [['visitTime', 'purchaseTime', 'C1', 'C2', 'C3',\n",
    "       'C4', 'C5', 'C6', 'C7', 'C8', 'N1', 'C9', 'N2', 'N3', 'N4', 'N5', 'N6',\n",
    "       'N7', 'N8', 'N9', 'N10', 'C10', 'C11', 'C12']]"
   ]
  },
  {
   "cell_type": "code",
   "execution_count": 44,
   "metadata": {},
   "outputs": [],
   "source": [
    "y_val = model_rf.predict_proba(X_val)"
   ]
  },
  {
   "cell_type": "code",
   "execution_count": 45,
   "metadata": {},
   "outputs": [],
   "source": [
    "#selecting the second column (which is the probability for class 1)\n",
    "final_prob = y_val[:,1]"
   ]
  },
  {
   "cell_type": "code",
   "execution_count": null,
   "metadata": {},
   "outputs": [],
   "source": []
  },
  {
   "cell_type": "code",
   "execution_count": 46,
   "metadata": {},
   "outputs": [],
   "source": [
    "df_test['Prob'] = final_prob"
   ]
  },
  {
   "cell_type": "code",
   "execution_count": 47,
   "metadata": {},
   "outputs": [
    {
     "data": {
      "text/html": [
       "<div>\n",
       "<style scoped>\n",
       "    .dataframe tbody tr th:only-of-type {\n",
       "        vertical-align: middle;\n",
       "    }\n",
       "\n",
       "    .dataframe tbody tr th {\n",
       "        vertical-align: top;\n",
       "    }\n",
       "\n",
       "    .dataframe thead th {\n",
       "        text-align: right;\n",
       "    }\n",
       "</style>\n",
       "<table border=\"1\" class=\"dataframe\">\n",
       "  <thead>\n",
       "    <tr style=\"text-align: right;\">\n",
       "      <th></th>\n",
       "      <th>id</th>\n",
       "      <th>visitTime</th>\n",
       "      <th>purchaseTime</th>\n",
       "      <th>C1</th>\n",
       "      <th>C2</th>\n",
       "      <th>C3</th>\n",
       "      <th>C4</th>\n",
       "      <th>C5</th>\n",
       "      <th>C6</th>\n",
       "      <th>C7</th>\n",
       "      <th>...</th>\n",
       "      <th>N5</th>\n",
       "      <th>N6</th>\n",
       "      <th>N7</th>\n",
       "      <th>N8</th>\n",
       "      <th>N9</th>\n",
       "      <th>N10</th>\n",
       "      <th>C10</th>\n",
       "      <th>C11</th>\n",
       "      <th>C12</th>\n",
       "      <th>Prob</th>\n",
       "    </tr>\n",
       "  </thead>\n",
       "  <tbody>\n",
       "    <tr>\n",
       "      <td>0</td>\n",
       "      <td>1</td>\n",
       "      <td>19360733</td>\n",
       "      <td>-1</td>\n",
       "      <td>2569487005</td>\n",
       "      <td>403381353</td>\n",
       "      <td>681762206</td>\n",
       "      <td>652481754</td>\n",
       "      <td>2967512603</td>\n",
       "      <td>580883881</td>\n",
       "      <td>2303407174</td>\n",
       "      <td>...</td>\n",
       "      <td>0</td>\n",
       "      <td>0</td>\n",
       "      <td>0</td>\n",
       "      <td>0</td>\n",
       "      <td>0</td>\n",
       "      <td>0</td>\n",
       "      <td>2128770044</td>\n",
       "      <td>3617851689</td>\n",
       "      <td>4220791646</td>\n",
       "      <td>0.733333</td>\n",
       "    </tr>\n",
       "    <tr>\n",
       "      <td>1</td>\n",
       "      <td>2</td>\n",
       "      <td>19360734</td>\n",
       "      <td>-1</td>\n",
       "      <td>2416811818</td>\n",
       "      <td>1235983246</td>\n",
       "      <td>3653557526</td>\n",
       "      <td>652481754</td>\n",
       "      <td>2116767313</td>\n",
       "      <td>571765677</td>\n",
       "      <td>2303407174</td>\n",
       "      <td>...</td>\n",
       "      <td>0</td>\n",
       "      <td>0</td>\n",
       "      <td>0</td>\n",
       "      <td>0</td>\n",
       "      <td>0</td>\n",
       "      <td>0</td>\n",
       "      <td>4256459078</td>\n",
       "      <td>2379633508</td>\n",
       "      <td>1284343215</td>\n",
       "      <td>0.733333</td>\n",
       "    </tr>\n",
       "    <tr>\n",
       "      <td>2</td>\n",
       "      <td>3</td>\n",
       "      <td>19360735</td>\n",
       "      <td>-1</td>\n",
       "      <td>3765056181</td>\n",
       "      <td>1235983246</td>\n",
       "      <td>1310333812</td>\n",
       "      <td>652481754</td>\n",
       "      <td>2116767313</td>\n",
       "      <td>571765677</td>\n",
       "      <td>2303407174</td>\n",
       "      <td>...</td>\n",
       "      <td>0</td>\n",
       "      <td>0</td>\n",
       "      <td>0</td>\n",
       "      <td>0</td>\n",
       "      <td>0</td>\n",
       "      <td>0</td>\n",
       "      <td>2840358457</td>\n",
       "      <td>3831440054</td>\n",
       "      <td>1213938795</td>\n",
       "      <td>0.733333</td>\n",
       "    </tr>\n",
       "    <tr>\n",
       "      <td>3</td>\n",
       "      <td>4</td>\n",
       "      <td>19360737</td>\n",
       "      <td>-1</td>\n",
       "      <td>955802445</td>\n",
       "      <td>403381353</td>\n",
       "      <td>2290282995</td>\n",
       "      <td>652481754</td>\n",
       "      <td>2967512603</td>\n",
       "      <td>1607619193</td>\n",
       "      <td>1342367140</td>\n",
       "      <td>...</td>\n",
       "      <td>0</td>\n",
       "      <td>0</td>\n",
       "      <td>0</td>\n",
       "      <td>0</td>\n",
       "      <td>0</td>\n",
       "      <td>0</td>\n",
       "      <td>4039873369</td>\n",
       "      <td>535829057</td>\n",
       "      <td>3828748840</td>\n",
       "      <td>0.733333</td>\n",
       "    </tr>\n",
       "    <tr>\n",
       "      <td>4</td>\n",
       "      <td>5</td>\n",
       "      <td>19360752</td>\n",
       "      <td>-1</td>\n",
       "      <td>2569487005</td>\n",
       "      <td>2517724481</td>\n",
       "      <td>2463986301</td>\n",
       "      <td>2308170622</td>\n",
       "      <td>2967512603</td>\n",
       "      <td>580883881</td>\n",
       "      <td>2303407174</td>\n",
       "      <td>...</td>\n",
       "      <td>0</td>\n",
       "      <td>0</td>\n",
       "      <td>0</td>\n",
       "      <td>0</td>\n",
       "      <td>0</td>\n",
       "      <td>0</td>\n",
       "      <td>907610626</td>\n",
       "      <td>3617851689</td>\n",
       "      <td>4220791646</td>\n",
       "      <td>0.733333</td>\n",
       "    </tr>\n",
       "  </tbody>\n",
       "</table>\n",
       "<p>5 rows × 26 columns</p>\n",
       "</div>"
      ],
      "text/plain": [
       "   id  visitTime  purchaseTime          C1          C2          C3  \\\n",
       "0   1   19360733            -1  2569487005   403381353   681762206   \n",
       "1   2   19360734            -1  2416811818  1235983246  3653557526   \n",
       "2   3   19360735            -1  3765056181  1235983246  1310333812   \n",
       "3   4   19360737            -1   955802445   403381353  2290282995   \n",
       "4   5   19360752            -1  2569487005  2517724481  2463986301   \n",
       "\n",
       "           C4          C5          C6          C7  ...  N5  N6  N7  N8  N9  \\\n",
       "0   652481754  2967512603   580883881  2303407174  ...   0   0   0   0   0   \n",
       "1   652481754  2116767313   571765677  2303407174  ...   0   0   0   0   0   \n",
       "2   652481754  2116767313   571765677  2303407174  ...   0   0   0   0   0   \n",
       "3   652481754  2967512603  1607619193  1342367140  ...   0   0   0   0   0   \n",
       "4  2308170622  2967512603   580883881  2303407174  ...   0   0   0   0   0   \n",
       "\n",
       "   N10         C10         C11         C12      Prob  \n",
       "0    0  2128770044  3617851689  4220791646  0.733333  \n",
       "1    0  4256459078  2379633508  1284343215  0.733333  \n",
       "2    0  2840358457  3831440054  1213938795  0.733333  \n",
       "3    0  4039873369   535829057  3828748840  0.733333  \n",
       "4    0   907610626  3617851689  4220791646  0.733333  \n",
       "\n",
       "[5 rows x 26 columns]"
      ]
     },
     "execution_count": 47,
     "metadata": {},
     "output_type": "execute_result"
    }
   ],
   "source": [
    "df_test.head()"
   ]
  },
  {
   "cell_type": "code",
   "execution_count": 48,
   "metadata": {},
   "outputs": [],
   "source": [
    "#selecting only Id and probability columns\n",
    "df_test = df_test[['id', 'Prob']]"
   ]
  },
  {
   "cell_type": "code",
   "execution_count": 49,
   "metadata": {},
   "outputs": [
    {
     "data": {
      "text/html": [
       "<div>\n",
       "<style scoped>\n",
       "    .dataframe tbody tr th:only-of-type {\n",
       "        vertical-align: middle;\n",
       "    }\n",
       "\n",
       "    .dataframe tbody tr th {\n",
       "        vertical-align: top;\n",
       "    }\n",
       "\n",
       "    .dataframe thead th {\n",
       "        text-align: right;\n",
       "    }\n",
       "</style>\n",
       "<table border=\"1\" class=\"dataframe\">\n",
       "  <thead>\n",
       "    <tr style=\"text-align: right;\">\n",
       "      <th></th>\n",
       "      <th>id</th>\n",
       "      <th>Prob</th>\n",
       "    </tr>\n",
       "  </thead>\n",
       "  <tbody>\n",
       "    <tr>\n",
       "      <td>0</td>\n",
       "      <td>1</td>\n",
       "      <td>0.733333</td>\n",
       "    </tr>\n",
       "    <tr>\n",
       "      <td>1</td>\n",
       "      <td>2</td>\n",
       "      <td>0.733333</td>\n",
       "    </tr>\n",
       "    <tr>\n",
       "      <td>2</td>\n",
       "      <td>3</td>\n",
       "      <td>0.733333</td>\n",
       "    </tr>\n",
       "    <tr>\n",
       "      <td>3</td>\n",
       "      <td>4</td>\n",
       "      <td>0.733333</td>\n",
       "    </tr>\n",
       "    <tr>\n",
       "      <td>4</td>\n",
       "      <td>5</td>\n",
       "      <td>0.733333</td>\n",
       "    </tr>\n",
       "  </tbody>\n",
       "</table>\n",
       "</div>"
      ],
      "text/plain": [
       "   id      Prob\n",
       "0   1  0.733333\n",
       "1   2  0.733333\n",
       "2   3  0.733333\n",
       "3   4  0.733333\n",
       "4   5  0.733333"
      ]
     },
     "execution_count": 49,
     "metadata": {},
     "output_type": "execute_result"
    }
   ],
   "source": [
    "df_test.head()"
   ]
  },
  {
   "cell_type": "code",
   "execution_count": 50,
   "metadata": {},
   "outputs": [],
   "source": [
    "#saving output to csv\n",
    "df_test.to_csv('prediction MaximePracisnore_e197419.csv', index=False)"
   ]
  },
  {
   "cell_type": "code",
   "execution_count": null,
   "metadata": {},
   "outputs": [],
   "source": []
  }
 ],
 "metadata": {
  "kernelspec": {
   "display_name": "Python 3",
   "language": "python",
   "name": "python3"
  },
  "language_info": {
   "codemirror_mode": {
    "name": "ipython",
    "version": 3
   },
   "file_extension": ".py",
   "mimetype": "text/x-python",
   "name": "python",
   "nbconvert_exporter": "python",
   "pygments_lexer": "ipython3",
   "version": "3.7.4"
  }
 },
 "nbformat": 4,
 "nbformat_minor": 2
}
